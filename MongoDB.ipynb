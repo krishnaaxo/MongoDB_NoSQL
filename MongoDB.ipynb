{
 "cells": [
  {
   "cell_type": "markdown",
   "id": "f53e5a36",
   "metadata": {},
   "source": [
    "# MongoDb Python"
   ]
  },
  {
   "cell_type": "code",
   "execution_count": 1,
   "id": "81588322",
   "metadata": {},
   "outputs": [],
   "source": [
    "import pymongo\n",
    "\n",
    "client=pymongo.MongoClient('mongodb://127.0.0.1:27017/')\n",
    "\n",
    "mydb=client['OFFICE']\n",
    "empinfo=mydb.employeeinformation"
   ]
  },
  {
   "cell_type": "code",
   "execution_count": 2,
   "id": "06b0e721",
   "metadata": {},
   "outputs": [
    {
     "data": {
      "text/plain": [
       "['Employee', 'OFFICE', 'Students', 'admin', 'config', 'local']"
      ]
     },
     "execution_count": 2,
     "metadata": {},
     "output_type": "execute_result"
    }
   ],
   "source": [
    "client.list_database_names()"
   ]
  },
  {
   "cell_type": "code",
   "execution_count": 3,
   "id": "3c66512d",
   "metadata": {},
   "outputs": [
    {
     "data": {
      "text/plain": [
       "MongoClient(host=['127.0.0.1:27017'], document_class=dict, tz_aware=False, connect=True)"
      ]
     },
     "execution_count": 3,
     "metadata": {},
     "output_type": "execute_result"
    }
   ],
   "source": [
    "\n",
    "client"
   ]
  },
  {
   "cell_type": "code",
   "execution_count": 4,
   "id": "19f5b9f6",
   "metadata": {},
   "outputs": [],
   "source": [
    "DB_NAME = \"Employee\""
   ]
  },
  {
   "cell_type": "code",
   "execution_count": 5,
   "id": "cca0ee71",
   "metadata": {},
   "outputs": [],
   "source": [
    "# Create a DB\n",
    "dataBase = client[DB_NAME]"
   ]
  },
  {
   "cell_type": "code",
   "execution_count": 6,
   "id": "1c3d83af",
   "metadata": {},
   "outputs": [
    {
     "name": "stdout",
     "output_type": "stream",
     "text": [
      "DB: 'Employee' exists\n"
     ]
    }
   ],
   "source": [
    "# let's verify whether we have our database in the list or not \n",
    "# we'll use the following function:-\n",
    "\n",
    "def checkExistence_DB(DB_NAME, client):\n",
    "    \"\"\"It verifies the existence of DB\"\"\"\n",
    "    DBlist = client.list_database_names()\n",
    "    if DB_NAME in DBlist:\n",
    "        print(f\"DB: '{DB_NAME}' exists\")\n",
    "        return True\n",
    "    print(f\"DB: '{DB_NAME}' not yet present OR no collection is present in the DB\")\n",
    "    return False\n",
    "\n",
    "\n",
    "_ = checkExistence_DB(DB_NAME=DB_NAME, client=client)"
   ]
  },
  {
   "cell_type": "code",
   "execution_count": 7,
   "id": "dccf11b3",
   "metadata": {},
   "outputs": [],
   "source": [
    "COLLECTION_NAME = \"employeeinformation\"\n",
    "collection = dataBase[COLLECTION_NAME]"
   ]
  },
  {
   "cell_type": "code",
   "execution_count": 8,
   "id": "e718236d",
   "metadata": {},
   "outputs": [
    {
     "name": "stdout",
     "output_type": "stream",
     "text": [
      "Collection:'employeeinformation' in Database:'Employee' exists\n"
     ]
    }
   ],
   "source": [
    "\n",
    "# let's verify whether we have our database in the list or not \n",
    "# we'll use the following function:-\n",
    "\n",
    "def checkExistence_COL(COLLECTION_NAME, DB_NAME, db):\n",
    "    \"\"\"It verifies the existence of collection name in a database\"\"\"\n",
    "    collection_list = db.list_collection_names()\n",
    "    \n",
    "    if COLLECTION_NAME in collection_list:\n",
    "        print(f\"Collection:'{COLLECTION_NAME}' in Database:'{DB_NAME}' exists\")\n",
    "        return True\n",
    "    \n",
    "    print(f\"Collection:'{COLLECTION_NAME}' in Database:'{DB_NAME}' does not exists OR \\n\\\n",
    "    no documents are present in the collection\")\n",
    "    return False\n",
    "\n",
    "\n",
    "_ = checkExistence_COL(COLLECTION_NAME=COLLECTION_NAME, DB_NAME=DB_NAME, db=dataBase)"
   ]
  },
  {
   "cell_type": "markdown",
   "id": "601f7e76",
   "metadata": {},
   "source": [
    "# Insert Single Data"
   ]
  },
  {
   "cell_type": "code",
   "execution_count": 9,
   "id": "bee35d0e",
   "metadata": {},
   "outputs": [
    {
     "data": {
      "text/plain": [
       "<pymongo.results.InsertOneResult at 0x1a50bb5bd08>"
      ]
     },
     "execution_count": 9,
     "metadata": {},
     "output_type": "execute_result"
    }
   ],
   "source": [
    "\n",
    "record={\n",
    "        'firstname':'Krishna',\n",
    "        'lastname':'More',\n",
    "        'department':'Analytics',\n",
    "        'qualification':'BE',\n",
    "        'age':21\n",
    "        }\n",
    "empinfo.insert_one(record)"
   ]
  },
  {
   "cell_type": "markdown",
   "id": "3358170e",
   "metadata": {},
   "source": [
    "# Insert Multiple Data"
   ]
  },
  {
   "cell_type": "code",
   "execution_count": 10,
   "id": "b67bfe5e",
   "metadata": {},
   "outputs": [],
   "source": [
    "records=[{\n",
    "        'firstname':'John',\n",
    "        'lastname':'Doe',\n",
    "        'department':'Analytics',\n",
    "        'qualification':'statistics',\n",
    "        'age':35\n",
    "        \n",
    "        },\n",
    "         {\n",
    "        'firstname':'John ',\n",
    "        'lastname':'Smith',\n",
    "        'department':'Analytics',\n",
    "        'qualification':'masters',\n",
    "        'age':30\n",
    "        \n",
    "        },\n",
    "        {\n",
    "        'firstname':'Manish',\n",
    "        'lastname':'Sen',\n",
    "        'department':'Analytics',\n",
    "        'qualification':'phd',\n",
    "        'age':34\n",
    "        \n",
    "        },\n",
    "        {\n",
    "        'firstname':'Ram',\n",
    "        'lastname':'Singh',\n",
    "        'department':'Analytics',\n",
    "        'qualification':'master',\n",
    "        'age':32\n",
    "        \n",
    "        }]"
   ]
  },
  {
   "cell_type": "code",
   "execution_count": 11,
   "id": "95e81b74",
   "metadata": {},
   "outputs": [
    {
     "data": {
      "text/plain": [
       "<pymongo.results.InsertManyResult at 0x1a50bb93288>"
      ]
     },
     "execution_count": 11,
     "metadata": {},
     "output_type": "execute_result"
    }
   ],
   "source": [
    "empinfo.insert_many(records)"
   ]
  },
  {
   "cell_type": "code",
   "execution_count": 12,
   "id": "65a3545d",
   "metadata": {},
   "outputs": [
    {
     "name": "stdout",
     "output_type": "stream",
     "text": [
      "Collection(Database(MongoClient(host=['127.0.0.1:27017'], document_class=dict, tz_aware=False, connect=True), 'OFFICE'), 'employeeinformation')\n"
     ]
    }
   ],
   "source": [
    "print(empinfo)"
   ]
  },
  {
   "cell_type": "markdown",
   "id": "418e4c52",
   "metadata": {},
   "source": [
    "### Queries"
   ]
  },
  {
   "cell_type": "code",
   "execution_count": 13,
   "id": "f312e2d9",
   "metadata": {},
   "outputs": [
    {
     "data": {
      "text/plain": [
       "{'_id': ObjectId('60a1543096ecc5d093b0f5dd'),\n",
       " 'firstname': 'Krishna',\n",
       " 'lastname': 'More',\n",
       " 'department': 'Analytics',\n",
       " 'qualification': 'BE',\n",
       " 'age': 21}"
      ]
     },
     "execution_count": 13,
     "metadata": {},
     "output_type": "execute_result"
    }
   ],
   "source": [
    "## Simple way of querying\n",
    "empinfo.find_one()"
   ]
  },
  {
   "cell_type": "code",
   "execution_count": 14,
   "id": "6c7e3dca",
   "metadata": {},
   "outputs": [
    {
     "name": "stdout",
     "output_type": "stream",
     "text": [
      "{'_id': ObjectId('60a1543096ecc5d093b0f5dd'), 'firstname': 'Krishna', 'lastname': 'More', 'department': 'Analytics', 'qualification': 'BE', 'age': 21}\n",
      "{'_id': ObjectId('60a1543396ecc5d093b0f5de'), 'firstname': 'John', 'lastname': 'Doe', 'department': 'Analytics', 'qualification': 'statistics', 'age': 35}\n",
      "{'_id': ObjectId('60a1543396ecc5d093b0f5df'), 'firstname': 'John ', 'lastname': 'Smith', 'department': 'Analytics', 'qualification': 'masters', 'age': 30}\n",
      "{'_id': ObjectId('60a1543396ecc5d093b0f5e0'), 'firstname': 'Manish', 'lastname': 'Sen', 'department': 'Analytics', 'qualification': 'phd', 'age': 34}\n",
      "{'_id': ObjectId('60a1543396ecc5d093b0f5e1'), 'firstname': 'Ram', 'lastname': 'Singh', 'department': 'Analytics', 'qualification': 'master', 'age': 32}\n",
      "{'_id': ObjectId('60a159a996ecc5d093b0f5e7'), 'firstname': 'Krishna', 'lastname': 'More', 'department': 'Analytics', 'qualification': 'BE', 'age': 21}\n",
      "{'_id': ObjectId('60a159ab96ecc5d093b0f5e8'), 'firstname': 'John', 'lastname': 'Doe', 'department': 'Analytics', 'qualification': 'statistics', 'age': 35}\n",
      "{'_id': ObjectId('60a159ab96ecc5d093b0f5e9'), 'firstname': 'John ', 'lastname': 'Smith', 'department': 'Analytics', 'qualification': 'masters', 'age': 30}\n",
      "{'_id': ObjectId('60a159ab96ecc5d093b0f5ea'), 'firstname': 'Manish', 'lastname': 'Sen', 'department': 'Analytics', 'qualification': 'phd', 'age': 34}\n",
      "{'_id': ObjectId('60a159ab96ecc5d093b0f5eb'), 'firstname': 'Ram', 'lastname': 'Singh', 'department': 'Analytics', 'qualification': 'master', 'age': 32}\n",
      "{'_id': ObjectId('60a15be215cd3bb591a22bd3'), 'firstname': 'Krishna', 'lastname': 'More', 'department': 'Analytics', 'qualification': 'BE', 'age': 21}\n",
      "{'_id': ObjectId('60a15be415cd3bb591a22bd4'), 'firstname': 'John', 'lastname': 'Doe', 'department': 'Analytics', 'qualification': 'statistics', 'age': 35}\n",
      "{'_id': ObjectId('60a15be415cd3bb591a22bd5'), 'firstname': 'John ', 'lastname': 'Smith', 'department': 'Analytics', 'qualification': 'masters', 'age': 30}\n",
      "{'_id': ObjectId('60a15be415cd3bb591a22bd6'), 'firstname': 'Manish', 'lastname': 'Sen', 'department': 'Analytics', 'qualification': 'phd', 'age': 34}\n",
      "{'_id': ObjectId('60a15be415cd3bb591a22bd7'), 'firstname': 'Ram', 'lastname': 'Singh', 'department': 'Analytics', 'qualification': 'master', 'age': 32}\n",
      "{'_id': ObjectId('60a160745e0a55bbb88ce283'), 'firstname': 'Krishna', 'lastname': 'More', 'department': 'Analytics', 'qualification': 'BE', 'age': 21}\n",
      "{'_id': ObjectId('60a160745e0a55bbb88ce284'), 'firstname': 'John', 'lastname': 'Doe', 'department': 'Analytics', 'qualification': 'statistics', 'age': 35}\n",
      "{'_id': ObjectId('60a160745e0a55bbb88ce285'), 'firstname': 'John ', 'lastname': 'Smith', 'department': 'Analytics', 'qualification': 'masters', 'age': 30}\n",
      "{'_id': ObjectId('60a160745e0a55bbb88ce286'), 'firstname': 'Manish', 'lastname': 'Sen', 'department': 'Analytics', 'qualification': 'phd', 'age': 34}\n",
      "{'_id': ObjectId('60a160745e0a55bbb88ce287'), 'firstname': 'Ram', 'lastname': 'Singh', 'department': 'Analytics', 'qualification': 'master', 'age': 32}\n"
     ]
    }
   ],
   "source": [
    "for x in empinfo.find():\n",
    "  print(x)"
   ]
  },
  {
   "cell_type": "code",
   "execution_count": 15,
   "id": "e3b5fd43",
   "metadata": {},
   "outputs": [
    {
     "name": "stdout",
     "output_type": "stream",
     "text": [
      "{'_id': ObjectId('60a1543096ecc5d093b0f5dd'), 'firstname': 'Krishna', 'lastname': 'More', 'department': 'Analytics', 'qualification': 'BE', 'age': 21}\n",
      "{'_id': ObjectId('60a1543396ecc5d093b0f5de'), 'firstname': 'John', 'lastname': 'Doe', 'department': 'Analytics', 'qualification': 'statistics', 'age': 35}\n",
      "{'_id': ObjectId('60a1543396ecc5d093b0f5df'), 'firstname': 'John ', 'lastname': 'Smith', 'department': 'Analytics', 'qualification': 'masters', 'age': 30}\n",
      "{'_id': ObjectId('60a1543396ecc5d093b0f5e0'), 'firstname': 'Manish', 'lastname': 'Sen', 'department': 'Analytics', 'qualification': 'phd', 'age': 34}\n",
      "{'_id': ObjectId('60a1543396ecc5d093b0f5e1'), 'firstname': 'Ram', 'lastname': 'Singh', 'department': 'Analytics', 'qualification': 'master', 'age': 32}\n",
      "{'_id': ObjectId('60a159a996ecc5d093b0f5e7'), 'firstname': 'Krishna', 'lastname': 'More', 'department': 'Analytics', 'qualification': 'BE', 'age': 21}\n",
      "{'_id': ObjectId('60a159ab96ecc5d093b0f5e8'), 'firstname': 'John', 'lastname': 'Doe', 'department': 'Analytics', 'qualification': 'statistics', 'age': 35}\n",
      "{'_id': ObjectId('60a159ab96ecc5d093b0f5e9'), 'firstname': 'John ', 'lastname': 'Smith', 'department': 'Analytics', 'qualification': 'masters', 'age': 30}\n",
      "{'_id': ObjectId('60a159ab96ecc5d093b0f5ea'), 'firstname': 'Manish', 'lastname': 'Sen', 'department': 'Analytics', 'qualification': 'phd', 'age': 34}\n",
      "{'_id': ObjectId('60a159ab96ecc5d093b0f5eb'), 'firstname': 'Ram', 'lastname': 'Singh', 'department': 'Analytics', 'qualification': 'master', 'age': 32}\n",
      "{'_id': ObjectId('60a15be215cd3bb591a22bd3'), 'firstname': 'Krishna', 'lastname': 'More', 'department': 'Analytics', 'qualification': 'BE', 'age': 21}\n",
      "{'_id': ObjectId('60a15be415cd3bb591a22bd4'), 'firstname': 'John', 'lastname': 'Doe', 'department': 'Analytics', 'qualification': 'statistics', 'age': 35}\n",
      "{'_id': ObjectId('60a15be415cd3bb591a22bd5'), 'firstname': 'John ', 'lastname': 'Smith', 'department': 'Analytics', 'qualification': 'masters', 'age': 30}\n",
      "{'_id': ObjectId('60a15be415cd3bb591a22bd6'), 'firstname': 'Manish', 'lastname': 'Sen', 'department': 'Analytics', 'qualification': 'phd', 'age': 34}\n",
      "{'_id': ObjectId('60a15be415cd3bb591a22bd7'), 'firstname': 'Ram', 'lastname': 'Singh', 'department': 'Analytics', 'qualification': 'master', 'age': 32}\n",
      "{'_id': ObjectId('60a160745e0a55bbb88ce283'), 'firstname': 'Krishna', 'lastname': 'More', 'department': 'Analytics', 'qualification': 'BE', 'age': 21}\n",
      "{'_id': ObjectId('60a160745e0a55bbb88ce284'), 'firstname': 'John', 'lastname': 'Doe', 'department': 'Analytics', 'qualification': 'statistics', 'age': 35}\n",
      "{'_id': ObjectId('60a160745e0a55bbb88ce285'), 'firstname': 'John ', 'lastname': 'Smith', 'department': 'Analytics', 'qualification': 'masters', 'age': 30}\n",
      "{'_id': ObjectId('60a160745e0a55bbb88ce286'), 'firstname': 'Manish', 'lastname': 'Sen', 'department': 'Analytics', 'qualification': 'phd', 'age': 34}\n",
      "{'_id': ObjectId('60a160745e0a55bbb88ce287'), 'firstname': 'Ram', 'lastname': 'Singh', 'department': 'Analytics', 'qualification': 'master', 'age': 32}\n"
     ]
    }
   ],
   "source": [
    "## Select * from employeeinformation\n",
    "for record in empinfo.find({}):\n",
    "    print(record)\n"
   ]
  },
  {
   "cell_type": "code",
   "execution_count": 16,
   "id": "974a15d6",
   "metadata": {},
   "outputs": [
    {
     "name": "stdout",
     "output_type": "stream",
     "text": [
      "{'_id': ObjectId('60a1543096ecc5d093b0f5dd'), 'firstname': 'Manish', 'lastname': 'Sen'}\n",
      "{'_id': ObjectId('60a1543396ecc5d093b0f5de'), 'firstname': 'Manish', 'lastname': 'Sen'}\n",
      "{'_id': ObjectId('60a1543396ecc5d093b0f5df'), 'firstname': 'Manish', 'lastname': 'Sen'}\n",
      "{'_id': ObjectId('60a1543396ecc5d093b0f5e0'), 'firstname': 'Manish', 'lastname': 'Sen'}\n",
      "{'_id': ObjectId('60a1543396ecc5d093b0f5e1'), 'firstname': 'Manish', 'lastname': 'Sen'}\n",
      "{'_id': ObjectId('60a159a996ecc5d093b0f5e7'), 'firstname': 'Manish', 'lastname': 'Sen'}\n",
      "{'_id': ObjectId('60a159ab96ecc5d093b0f5e8'), 'firstname': 'Manish', 'lastname': 'Sen'}\n",
      "{'_id': ObjectId('60a159ab96ecc5d093b0f5e9'), 'firstname': 'Manish', 'lastname': 'Sen'}\n",
      "{'_id': ObjectId('60a159ab96ecc5d093b0f5ea'), 'firstname': 'Manish', 'lastname': 'Sen'}\n",
      "{'_id': ObjectId('60a159ab96ecc5d093b0f5eb'), 'firstname': 'Manish', 'lastname': 'Sen'}\n",
      "{'_id': ObjectId('60a15be215cd3bb591a22bd3'), 'firstname': 'Manish', 'lastname': 'Sen'}\n",
      "{'_id': ObjectId('60a15be415cd3bb591a22bd4'), 'firstname': 'Manish', 'lastname': 'Sen'}\n",
      "{'_id': ObjectId('60a15be415cd3bb591a22bd5'), 'firstname': 'Manish', 'lastname': 'Sen'}\n",
      "{'_id': ObjectId('60a15be415cd3bb591a22bd6'), 'firstname': 'Manish', 'lastname': 'Sen'}\n",
      "{'_id': ObjectId('60a15be415cd3bb591a22bd7'), 'firstname': 'Manish', 'lastname': 'Sen'}\n",
      "{'_id': ObjectId('60a160745e0a55bbb88ce283'), 'firstname': 'Manish', 'lastname': 'Sen'}\n",
      "{'_id': ObjectId('60a160745e0a55bbb88ce284'), 'firstname': 'Manish', 'lastname': 'Sen'}\n",
      "{'_id': ObjectId('60a160745e0a55bbb88ce285'), 'firstname': 'Manish', 'lastname': 'Sen'}\n",
      "{'_id': ObjectId('60a160745e0a55bbb88ce286'), 'firstname': 'Manish', 'lastname': 'Sen'}\n",
      "{'_id': ObjectId('60a160745e0a55bbb88ce287'), 'firstname': 'Manish', 'lastname': 'Sen'}\n"
     ]
    }
   ],
   "source": [
    "for x in empinfo.find({},{ 'firstname': 'Manish', 'lastname': 'Sen'}):\n",
    "  print(x)"
   ]
  },
  {
   "cell_type": "code",
   "execution_count": 17,
   "id": "21c76aba",
   "metadata": {},
   "outputs": [
    {
     "name": "stdout",
     "output_type": "stream",
     "text": [
      "{'_id': ObjectId('60a1543096ecc5d093b0f5dd'), 'firstname': 'Krishna', 'lastname': 'More', 'department': 'Analytics', 'qualification': 'BE', 'age': 21}\n",
      "{'_id': ObjectId('60a159a996ecc5d093b0f5e7'), 'firstname': 'Krishna', 'lastname': 'More', 'department': 'Analytics', 'qualification': 'BE', 'age': 21}\n",
      "{'_id': ObjectId('60a15be215cd3bb591a22bd3'), 'firstname': 'Krishna', 'lastname': 'More', 'department': 'Analytics', 'qualification': 'BE', 'age': 21}\n",
      "{'_id': ObjectId('60a160745e0a55bbb88ce283'), 'firstname': 'Krishna', 'lastname': 'More', 'department': 'Analytics', 'qualification': 'BE', 'age': 21}\n"
     ]
    }
   ],
   "source": [
    "# Select * from employeeinformation where firstname=krishna\n",
    "\n",
    "for record in empinfo.find({'firstname':'Krishna'}):\n",
    "    print(record)"
   ]
  },
  {
   "cell_type": "code",
   "execution_count": 18,
   "id": "3befa618",
   "metadata": {},
   "outputs": [
    {
     "name": "stdout",
     "output_type": "stream",
     "text": [
      "{'_id': ObjectId('60a1543396ecc5d093b0f5e0'), 'firstname': 'Manish', 'lastname': 'Sen', 'department': 'Analytics', 'qualification': 'phd', 'age': 34}\n",
      "{'_id': ObjectId('60a1543396ecc5d093b0f5e1'), 'firstname': 'Ram', 'lastname': 'Singh', 'department': 'Analytics', 'qualification': 'master', 'age': 32}\n",
      "{'_id': ObjectId('60a159ab96ecc5d093b0f5ea'), 'firstname': 'Manish', 'lastname': 'Sen', 'department': 'Analytics', 'qualification': 'phd', 'age': 34}\n",
      "{'_id': ObjectId('60a159ab96ecc5d093b0f5eb'), 'firstname': 'Ram', 'lastname': 'Singh', 'department': 'Analytics', 'qualification': 'master', 'age': 32}\n",
      "{'_id': ObjectId('60a15be415cd3bb591a22bd6'), 'firstname': 'Manish', 'lastname': 'Sen', 'department': 'Analytics', 'qualification': 'phd', 'age': 34}\n",
      "{'_id': ObjectId('60a15be415cd3bb591a22bd7'), 'firstname': 'Ram', 'lastname': 'Singh', 'department': 'Analytics', 'qualification': 'master', 'age': 32}\n",
      "{'_id': ObjectId('60a160745e0a55bbb88ce286'), 'firstname': 'Manish', 'lastname': 'Sen', 'department': 'Analytics', 'qualification': 'phd', 'age': 34}\n",
      "{'_id': ObjectId('60a160745e0a55bbb88ce287'), 'firstname': 'Ram', 'lastname': 'Singh', 'department': 'Analytics', 'qualification': 'master', 'age': 32}\n"
     ]
    }
   ],
   "source": [
    "## Query documents using query operators($in,$lt,$gt)\n",
    "# $lt less than\n",
    "# $gt greater than\n",
    "# $in in \n",
    "for record in empinfo.find({'qualification':{'$in':['phd','master']}}):\n",
    "    print(record)"
   ]
  },
  {
   "cell_type": "code",
   "execution_count": 19,
   "id": "cb5820cf",
   "metadata": {},
   "outputs": [
    {
     "name": "stdout",
     "output_type": "stream",
     "text": [
      "{'_id': ObjectId('60a1543396ecc5d093b0f5e1'), 'firstname': 'Ram', 'lastname': 'Singh', 'department': 'Analytics', 'qualification': 'master', 'age': 32}\n",
      "{'_id': ObjectId('60a159ab96ecc5d093b0f5eb'), 'firstname': 'Ram', 'lastname': 'Singh', 'department': 'Analytics', 'qualification': 'master', 'age': 32}\n",
      "{'_id': ObjectId('60a15be415cd3bb591a22bd7'), 'firstname': 'Ram', 'lastname': 'Singh', 'department': 'Analytics', 'qualification': 'master', 'age': 32}\n",
      "{'_id': ObjectId('60a160745e0a55bbb88ce287'), 'firstname': 'Ram', 'lastname': 'Singh', 'department': 'Analytics', 'qualification': 'master', 'age': 32}\n"
     ]
    }
   ],
   "source": [
    "\n",
    "## And and Query operators\n",
    "for record in empinfo.find({'qualification':'master','age':{'$lt':35}}):\n",
    "    print(record)"
   ]
  },
  {
   "cell_type": "code",
   "execution_count": 20,
   "id": "0f5b338f",
   "metadata": {},
   "outputs": [
    {
     "name": "stdout",
     "output_type": "stream",
     "text": [
      "{'_id': ObjectId('60a1543096ecc5d093b0f5dd'), 'firstname': 'Krishna', 'lastname': 'More', 'department': 'Analytics', 'qualification': 'BE', 'age': 21}\n",
      "{'_id': ObjectId('60a159a996ecc5d093b0f5e7'), 'firstname': 'Krishna', 'lastname': 'More', 'department': 'Analytics', 'qualification': 'BE', 'age': 21}\n",
      "{'_id': ObjectId('60a15be215cd3bb591a22bd3'), 'firstname': 'Krishna', 'lastname': 'More', 'department': 'Analytics', 'qualification': 'BE', 'age': 21}\n",
      "{'_id': ObjectId('60a160745e0a55bbb88ce283'), 'firstname': 'Krishna', 'lastname': 'More', 'department': 'Analytics', 'qualification': 'BE', 'age': 21}\n"
     ]
    }
   ],
   "source": [
    "for record in empinfo.find({'$or':[{'firstname':'Krishna'},{'qualification':'BE'}]}):\n",
    "    print(record)"
   ]
  },
  {
   "cell_type": "code",
   "execution_count": 21,
   "id": "7103e4d6",
   "metadata": {},
   "outputs": [
    {
     "name": "stdout",
     "output_type": "stream",
     "text": [
      "{'_id': ObjectId('60a1543096ecc5d093b0f5dd'), 'firstname': 'Krishna', 'lastname': 'More', 'department': 'Analytics', 'qualification': 'BE', 'age': 21}\n",
      "{'_id': ObjectId('60a159a996ecc5d093b0f5e7'), 'firstname': 'Krishna', 'lastname': 'More', 'department': 'Analytics', 'qualification': 'BE', 'age': 21}\n",
      "{'_id': ObjectId('60a15be215cd3bb591a22bd3'), 'firstname': 'Krishna', 'lastname': 'More', 'department': 'Analytics', 'qualification': 'BE', 'age': 21}\n",
      "{'_id': ObjectId('60a160745e0a55bbb88ce283'), 'firstname': 'Krishna', 'lastname': 'More', 'department': 'Analytics', 'qualification': 'BE', 'age': 21}\n"
     ]
    }
   ],
   "source": [
    "for record in empinfo.find({'$and':[{'firstname':'Krishna'},{'qualification':'BE'}]}):\n",
    "    print(record)"
   ]
  },
  {
   "cell_type": "markdown",
   "id": "62343de6",
   "metadata": {},
   "source": [
    "#### Ascending Sort "
   ]
  },
  {
   "cell_type": "code",
   "execution_count": 22,
   "id": "d9ef9c70",
   "metadata": {},
   "outputs": [
    {
     "name": "stdout",
     "output_type": "stream",
     "text": [
      "{'_id': ObjectId('60a1543096ecc5d093b0f5dd'), 'firstname': 'Krishna', 'lastname': 'More', 'department': 'Analytics', 'qualification': 'BE', 'age': 21}\n",
      "{'_id': ObjectId('60a159a996ecc5d093b0f5e7'), 'firstname': 'Krishna', 'lastname': 'More', 'department': 'Analytics', 'qualification': 'BE', 'age': 21}\n",
      "{'_id': ObjectId('60a15be215cd3bb591a22bd3'), 'firstname': 'Krishna', 'lastname': 'More', 'department': 'Analytics', 'qualification': 'BE', 'age': 21}\n",
      "{'_id': ObjectId('60a160745e0a55bbb88ce283'), 'firstname': 'Krishna', 'lastname': 'More', 'department': 'Analytics', 'qualification': 'BE', 'age': 21}\n",
      "{'_id': ObjectId('60a1543396ecc5d093b0f5df'), 'firstname': 'John ', 'lastname': 'Smith', 'department': 'Analytics', 'qualification': 'masters', 'age': 30}\n",
      "{'_id': ObjectId('60a159ab96ecc5d093b0f5e9'), 'firstname': 'John ', 'lastname': 'Smith', 'department': 'Analytics', 'qualification': 'masters', 'age': 30}\n",
      "{'_id': ObjectId('60a15be415cd3bb591a22bd5'), 'firstname': 'John ', 'lastname': 'Smith', 'department': 'Analytics', 'qualification': 'masters', 'age': 30}\n",
      "{'_id': ObjectId('60a160745e0a55bbb88ce285'), 'firstname': 'John ', 'lastname': 'Smith', 'department': 'Analytics', 'qualification': 'masters', 'age': 30}\n",
      "{'_id': ObjectId('60a1543396ecc5d093b0f5e1'), 'firstname': 'Ram', 'lastname': 'Singh', 'department': 'Analytics', 'qualification': 'master', 'age': 32}\n",
      "{'_id': ObjectId('60a159ab96ecc5d093b0f5eb'), 'firstname': 'Ram', 'lastname': 'Singh', 'department': 'Analytics', 'qualification': 'master', 'age': 32}\n",
      "{'_id': ObjectId('60a15be415cd3bb591a22bd7'), 'firstname': 'Ram', 'lastname': 'Singh', 'department': 'Analytics', 'qualification': 'master', 'age': 32}\n",
      "{'_id': ObjectId('60a160745e0a55bbb88ce287'), 'firstname': 'Ram', 'lastname': 'Singh', 'department': 'Analytics', 'qualification': 'master', 'age': 32}\n",
      "{'_id': ObjectId('60a1543396ecc5d093b0f5e0'), 'firstname': 'Manish', 'lastname': 'Sen', 'department': 'Analytics', 'qualification': 'phd', 'age': 34}\n",
      "{'_id': ObjectId('60a159ab96ecc5d093b0f5ea'), 'firstname': 'Manish', 'lastname': 'Sen', 'department': 'Analytics', 'qualification': 'phd', 'age': 34}\n",
      "{'_id': ObjectId('60a15be415cd3bb591a22bd6'), 'firstname': 'Manish', 'lastname': 'Sen', 'department': 'Analytics', 'qualification': 'phd', 'age': 34}\n",
      "{'_id': ObjectId('60a160745e0a55bbb88ce286'), 'firstname': 'Manish', 'lastname': 'Sen', 'department': 'Analytics', 'qualification': 'phd', 'age': 34}\n",
      "{'_id': ObjectId('60a1543396ecc5d093b0f5de'), 'firstname': 'John', 'lastname': 'Doe', 'department': 'Analytics', 'qualification': 'statistics', 'age': 35}\n",
      "{'_id': ObjectId('60a159ab96ecc5d093b0f5e8'), 'firstname': 'John', 'lastname': 'Doe', 'department': 'Analytics', 'qualification': 'statistics', 'age': 35}\n",
      "{'_id': ObjectId('60a15be415cd3bb591a22bd4'), 'firstname': 'John', 'lastname': 'Doe', 'department': 'Analytics', 'qualification': 'statistics', 'age': 35}\n",
      "{'_id': ObjectId('60a160745e0a55bbb88ce284'), 'firstname': 'John', 'lastname': 'Doe', 'department': 'Analytics', 'qualification': 'statistics', 'age': 35}\n"
     ]
    }
   ],
   "source": [
    "mydoc = empinfo.find().sort(\"age\")\n",
    "for x in mydoc:\n",
    "  print(x)"
   ]
  },
  {
   "cell_type": "markdown",
   "id": "daf2f173",
   "metadata": {},
   "source": [
    "#### Descending Sort"
   ]
  },
  {
   "cell_type": "code",
   "execution_count": 23,
   "id": "912e9388",
   "metadata": {},
   "outputs": [
    {
     "name": "stdout",
     "output_type": "stream",
     "text": [
      "{'_id': ObjectId('60a1543396ecc5d093b0f5de'), 'firstname': 'John', 'lastname': 'Doe', 'department': 'Analytics', 'qualification': 'statistics', 'age': 35}\n",
      "{'_id': ObjectId('60a159ab96ecc5d093b0f5e8'), 'firstname': 'John', 'lastname': 'Doe', 'department': 'Analytics', 'qualification': 'statistics', 'age': 35}\n",
      "{'_id': ObjectId('60a15be415cd3bb591a22bd4'), 'firstname': 'John', 'lastname': 'Doe', 'department': 'Analytics', 'qualification': 'statistics', 'age': 35}\n",
      "{'_id': ObjectId('60a160745e0a55bbb88ce284'), 'firstname': 'John', 'lastname': 'Doe', 'department': 'Analytics', 'qualification': 'statistics', 'age': 35}\n",
      "{'_id': ObjectId('60a1543396ecc5d093b0f5e0'), 'firstname': 'Manish', 'lastname': 'Sen', 'department': 'Analytics', 'qualification': 'phd', 'age': 34}\n",
      "{'_id': ObjectId('60a159ab96ecc5d093b0f5ea'), 'firstname': 'Manish', 'lastname': 'Sen', 'department': 'Analytics', 'qualification': 'phd', 'age': 34}\n",
      "{'_id': ObjectId('60a15be415cd3bb591a22bd6'), 'firstname': 'Manish', 'lastname': 'Sen', 'department': 'Analytics', 'qualification': 'phd', 'age': 34}\n",
      "{'_id': ObjectId('60a160745e0a55bbb88ce286'), 'firstname': 'Manish', 'lastname': 'Sen', 'department': 'Analytics', 'qualification': 'phd', 'age': 34}\n",
      "{'_id': ObjectId('60a1543396ecc5d093b0f5e1'), 'firstname': 'Ram', 'lastname': 'Singh', 'department': 'Analytics', 'qualification': 'master', 'age': 32}\n",
      "{'_id': ObjectId('60a159ab96ecc5d093b0f5eb'), 'firstname': 'Ram', 'lastname': 'Singh', 'department': 'Analytics', 'qualification': 'master', 'age': 32}\n",
      "{'_id': ObjectId('60a15be415cd3bb591a22bd7'), 'firstname': 'Ram', 'lastname': 'Singh', 'department': 'Analytics', 'qualification': 'master', 'age': 32}\n",
      "{'_id': ObjectId('60a160745e0a55bbb88ce287'), 'firstname': 'Ram', 'lastname': 'Singh', 'department': 'Analytics', 'qualification': 'master', 'age': 32}\n",
      "{'_id': ObjectId('60a1543396ecc5d093b0f5df'), 'firstname': 'John ', 'lastname': 'Smith', 'department': 'Analytics', 'qualification': 'masters', 'age': 30}\n",
      "{'_id': ObjectId('60a159ab96ecc5d093b0f5e9'), 'firstname': 'John ', 'lastname': 'Smith', 'department': 'Analytics', 'qualification': 'masters', 'age': 30}\n",
      "{'_id': ObjectId('60a15be415cd3bb591a22bd5'), 'firstname': 'John ', 'lastname': 'Smith', 'department': 'Analytics', 'qualification': 'masters', 'age': 30}\n",
      "{'_id': ObjectId('60a160745e0a55bbb88ce285'), 'firstname': 'John ', 'lastname': 'Smith', 'department': 'Analytics', 'qualification': 'masters', 'age': 30}\n",
      "{'_id': ObjectId('60a1543096ecc5d093b0f5dd'), 'firstname': 'Krishna', 'lastname': 'More', 'department': 'Analytics', 'qualification': 'BE', 'age': 21}\n",
      "{'_id': ObjectId('60a159a996ecc5d093b0f5e7'), 'firstname': 'Krishna', 'lastname': 'More', 'department': 'Analytics', 'qualification': 'BE', 'age': 21}\n",
      "{'_id': ObjectId('60a15be215cd3bb591a22bd3'), 'firstname': 'Krishna', 'lastname': 'More', 'department': 'Analytics', 'qualification': 'BE', 'age': 21}\n",
      "{'_id': ObjectId('60a160745e0a55bbb88ce283'), 'firstname': 'Krishna', 'lastname': 'More', 'department': 'Analytics', 'qualification': 'BE', 'age': 21}\n"
     ]
    }
   ],
   "source": [
    "mydoc = empinfo.find().sort(\"age\", -1)\n",
    "\n",
    "for x in mydoc:\n",
    "  print(x)"
   ]
  },
  {
   "cell_type": "markdown",
   "id": "2be45483",
   "metadata": {},
   "source": [
    "#### Mongodb Aggregate And Group"
   ]
  },
  {
   "cell_type": "code",
   "execution_count": 24,
   "id": "a8f6238c",
   "metadata": {},
   "outputs": [],
   "source": [
    "inventory=mydb.inventory"
   ]
  },
  {
   "cell_type": "code",
   "execution_count": 25,
   "id": "4e719d61",
   "metadata": {},
   "outputs": [
    {
     "data": {
      "text/plain": [
       "<pymongo.results.InsertManyResult at 0x1a50bbc1fc8>"
      ]
     },
     "execution_count": 25,
     "metadata": {},
     "output_type": "execute_result"
    }
   ],
   "source": [
    "inventory.insert_many([\n",
    "    {\"item\": \"canvas\",\n",
    "     \"qty\": 100,\n",
    "     \"size\": {\"h\": 28, \"w\": 35.5, \"uom\": \"cm\"},\n",
    "     \"status\": \"A\"},\n",
    "    {\"item\": \"journal\",\n",
    "     \"qty\": 25,\n",
    "     \"size\": {\"h\": 14, \"w\": 21, \"uom\": \"cm\"},\n",
    "     \"status\": \"A\"},\n",
    "    {\"item\": \"mat\",\n",
    "     \"qty\": 85,\n",
    "     \"size\": {\"h\": 27.9, \"w\": 35.5, \"uom\": \"cm\"},\n",
    "     \"status\": \"A\"},\n",
    "    {\"item\": \"mousepad\",\n",
    "     \"qty\": 25,\n",
    "     \"size\": {\"h\": 19, \"w\": 22.85, \"uom\": \"cm\"},\n",
    "     \"status\": \"P\"},\n",
    "    {\"item\": \"notebook\",\n",
    "     \"qty\": 50,\n",
    "     \"size\": {\"h\": 8.5, \"w\": 11, \"uom\": \"in\"},\n",
    "     \"status\": \"P\"},\n",
    "    {\"item\": \"paper\",\n",
    "     \"qty\": 100,\n",
    "     \"size\": {\"h\": 8.5, \"w\": 11, \"uom\": \"in\"},\n",
    "     \"status\": \"D\"},\n",
    "    {\"item\": \"planner\",\n",
    "     \"qty\": 75,\n",
    "     \"size\": {\"h\": 22.85, \"w\": 30, \"uom\": \"cm\"},\n",
    "     \"status\": \"D\"},\n",
    "    {\"item\": \"postcard\",\n",
    "     \"qty\": 45,\n",
    "     \"size\": {\"h\": 10, \"w\": 15.25, \"uom\": \"cm\"},\n",
    "     \"status\": \"A\"},\n",
    "    {\"item\": \"sketchbook\",\n",
    "     \"qty\": 80,\n",
    "     \"size\": {\"h\": 14, \"w\": 21, \"uom\": \"cm\"},\n",
    "     \"status\": \"A\"},\n",
    "    {\"item\": \"sketch pad\",\n",
    "     \"qty\": 95,\n",
    "     \"size\": {\"h\": 22.85, \"w\": 30.5, \"uom\": \"cm\"},\n",
    "     \"status\": \"A\"}])"
   ]
  },
  {
   "cell_type": "code",
   "execution_count": 26,
   "id": "19602549",
   "metadata": {},
   "outputs": [
    {
     "data": {
      "text/plain": [
       "<pymongo.results.UpdateResult at 0x1a50bbc8108>"
      ]
     },
     "execution_count": 26,
     "metadata": {},
     "output_type": "execute_result"
    }
   ],
   "source": [
    "\n",
    "inventory.update_one(\n",
    "{\"item\":\"sketch pad\"},\n",
    "{\"$set\":{\"size.uom\":\"m\",\"status\":\"P\"},\n",
    "\"$currentDate\":{\"lastModified\":True}}\n",
    ")"
   ]
  },
  {
   "cell_type": "code",
   "execution_count": 27,
   "id": "15dcd892",
   "metadata": {},
   "outputs": [
    {
     "data": {
      "text/plain": [
       "<pymongo.results.UpdateResult at 0x1a50bbcd788>"
      ]
     },
     "execution_count": 27,
     "metadata": {},
     "output_type": "execute_result"
    }
   ],
   "source": [
    "inventory.update_many(\n",
    "    {\"qty\": {\"$lt\": 50}},\n",
    "    {\"$set\": {\"size.uom\": \"in\", \"status\": \"P\"},\n",
    "     \"$currentDate\": {\"lastModified\": True}})"
   ]
  },
  {
   "cell_type": "code",
   "execution_count": 28,
   "id": "ce193858",
   "metadata": {},
   "outputs": [
    {
     "data": {
      "text/plain": [
       "<pymongo.results.UpdateResult at 0x1a50bbcda88>"
      ]
     },
     "execution_count": 28,
     "metadata": {},
     "output_type": "execute_result"
    }
   ],
   "source": [
    "inventory.replace_one(\n",
    "    {\"item\": \"paper\"},\n",
    "    {\"item\": \"paper\",\n",
    "     \"instock\": [\n",
    "         {\"warehouse\": \"A\", \"qty\": 60},\n",
    "         {\"warehouse\": \"B\", \"qty\": 40}]})"
   ]
  },
  {
   "cell_type": "code",
   "execution_count": 29,
   "id": "6f28721f",
   "metadata": {},
   "outputs": [
    {
     "data": {
      "text/plain": [
       "<pymongo.results.InsertManyResult at 0x1a50bbc7a48>"
      ]
     },
     "execution_count": 29,
     "metadata": {},
     "output_type": "execute_result"
    }
   ],
   "source": [
    "from pymongo import MongoClient  \n",
    "    \n",
    "# creation of object MongoClient  \n",
    "client=MongoClient()  \n",
    "    \n",
    "# Connect with the portnumber and host  \n",
    "client = MongoClient(\"mongodb://localhost:27017/\")  \n",
    "    \n",
    "# Access database  \n",
    "mydatabase = client['Students']  \n",
    "    \n",
    "# Access collection of the database  \n",
    "collection=mydatabase['studentscores']  \n",
    "data = [ \n",
    "    {\"user\":\"Krishna\", \"subject\":\"Database\", \"score\":80}, \n",
    "    {\"user\":\"Amit\",  \"subject\":\"JavaScript\", \"score\":90}, \n",
    "    {\"user\":\"Amit\",  \"title\":\"Database\", \"score\":85}, \n",
    "    {\"user\":\"Krish\",  \"title\":\"JavaScript\", \"score\":75}, \n",
    "    {\"user\":\"Amit\",  \"title\":\"Data Science\", \"score\":60},\n",
    "    {\"user\":\"Krish\",  \"title\":\"Data Science\", \"score\":95}] \n",
    "  \n",
    "collection.insert_many(data)"
   ]
  },
  {
   "cell_type": "code",
   "execution_count": 30,
   "id": "fda58af2",
   "metadata": {},
   "outputs": [],
   "source": [
    "### Find Amit And Krishna Total Subjects\n",
    "agg_result= collection.aggregate( \n",
    "    [{ \n",
    "    \"$group\" :  \n",
    "        {\"_id\" : \"$user\",  \n",
    "         \"Total Subject\" : {\"$sum\" : 1} \n",
    "         }} \n",
    "    ])"
   ]
  },
  {
   "cell_type": "code",
   "execution_count": 31,
   "id": "57ae313f",
   "metadata": {},
   "outputs": [
    {
     "name": "stdout",
     "output_type": "stream",
     "text": [
      "{'_id': 'Amit', 'Total Subject': 9}\n",
      "{'_id': 'Krish', 'Total Subject': 7}\n",
      "{'_id': 'Krishna', 'Total Subject': 2}\n"
     ]
    }
   ],
   "source": [
    "for i in agg_result: \n",
    "    print(i)"
   ]
  },
  {
   "cell_type": "code",
   "execution_count": 32,
   "id": "cf2a8847",
   "metadata": {},
   "outputs": [
    {
     "name": "stdout",
     "output_type": "stream",
     "text": [
      "{'_id': 'Krishna', 'Total Marks': 160}\n",
      "{'_id': 'Krish', 'Total Marks': 590}\n",
      "{'_id': 'Amit', 'Total Marks': 705}\n"
     ]
    }
   ],
   "source": [
    "### Calculating the total score based on user\n",
    "agg_result= collection.aggregate( \n",
    "    [{ \n",
    "    \"$group\" :  \n",
    "        {\"_id\" : \"$user\",  \n",
    "         \"Total Marks\" : {\"$sum\" :\"$score\"} \n",
    "         }} \n",
    "    ]) \n",
    "for i in agg_result: \n",
    "    print(i)"
   ]
  },
  {
   "cell_type": "code",
   "execution_count": 33,
   "id": "83b1f658",
   "metadata": {},
   "outputs": [
    {
     "name": "stdout",
     "output_type": "stream",
     "text": [
      "{'_id': 'Amit', 'StudentScoreAverage': 78.33333333333333}\n",
      "{'_id': 'Krish', 'StudentScoreAverage': 84.28571428571429}\n",
      "{'_id': 'Krishna', 'StudentScoreAverage': 80.0}\n"
     ]
    }
   ],
   "source": [
    "\n",
    "### Calculating the average score based on user\n",
    "agg_result=collection.aggregate([\n",
    "   {\n",
    "      \"$group\": {\n",
    "         \"_id\": '$user',\n",
    "         \"StudentScoreAverage\": {\n",
    "            \"$avg\": \"$score\"\n",
    "         }\n",
    "      }\n",
    "   }\n",
    "])\n",
    "for i in agg_result: \n",
    "    print(i)"
   ]
  },
  {
   "cell_type": "code",
   "execution_count": 34,
   "id": "96195dde",
   "metadata": {},
   "outputs": [],
   "source": [
    "\n",
    "import datetime as datetime"
   ]
  },
  {
   "cell_type": "code",
   "execution_count": 35,
   "id": "07bfd49d",
   "metadata": {},
   "outputs": [],
   "source": [
    "data=[{ \"_id\" : 1, \"item\" : \"abc\", \"price\" : 10, \"quantity\" : 2, \"date\" : datetime.datetime.utcnow()},\n",
    "{ \"_id\" : 2, \"item\" : \"jkl\", \"price\" : 20, \"quantity\" : 1, \"date\" : datetime.datetime.utcnow() },\n",
    "{ \"_id\" : 3, \"item\" : \"xyz\", \"price\" : 5, \"quantity\" : 5, \"date\" : datetime.datetime.utcnow() },\n",
    "{ \"_id\" : 4, \"item\" : \"abc\", \"price\" : 10, \"quantity\" : 10, \"date\" : datetime.datetime.utcnow() },\n",
    "{ \"_id\" : 5, \"item\" : \"xyz\", \"price\" : 5, \"quantity\" : 10, \"date\" :datetime.datetime.utcnow() }]"
   ]
  },
  {
   "cell_type": "code",
   "execution_count": 38,
   "id": "9cd8f561",
   "metadata": {},
   "outputs": [
    {
     "name": "stdout",
     "output_type": "stream",
     "text": [
      "{'_id': 'jkl', 'avgAmount': 20.0, 'avgQuantity': 1.0}\n",
      "{'_id': 'abc', 'avgAmount': 60.0, 'avgQuantity': 6.0}\n",
      "{'_id': 'xyz', 'avgAmount': 37.5, 'avgQuantity': 7.5}\n"
     ]
    }
   ],
   "source": [
    "### Calculating the average quantity And Average Price\n",
    "agg_result=mycollection.aggregate([\n",
    "   {\n",
    "      \"$group\": {\n",
    "         \"_id\": '$item',\n",
    "         \"avgAmount\": {\"$avg\": {\"$multiply\": [ \"$price\", \"$quantity\" ]}},\n",
    "          \"avgQuantity\": { \"$avg\": \"$quantity\" }\n",
    "      }\n",
    "   }\n",
    "])\n",
    "for i in agg_result: \n",
    "    print(i)"
   ]
  },
  {
   "cell_type": "code",
   "execution_count": 39,
   "id": "20ba4928",
   "metadata": {},
   "outputs": [],
   "source": [
    "#### $Project\n",
    "\n",
    "data=[{\n",
    "  \"_id\" : 1,\n",
    "  \"title\": \"abc123\",\n",
    "  \"isbn\": \"0001122223334\",\n",
    "  \"author\": { \"last\": \"zzz\", \"first\": \"aaa\" },\n",
    "  \"copies\": 5\n",
    "},\n",
    "{\n",
    "  \"_id\" : 2,\n",
    "  \"title\": \"Baked Goods\",\n",
    "  \"isbn\": \"9999999999999\",\n",
    "  \"author\": { \"last\": \"xyz\", \"first\": \"abc\", \"middle\": \"\" },\n",
    "  \"copies\": 2\n",
    "}\n",
    "]"
   ]
  },
  {
   "cell_type": "code",
   "execution_count": 40,
   "id": "11c496eb",
   "metadata": {},
   "outputs": [],
   "source": [
    "# Access collection of the database  \n",
    "collection=mydatabase['Books']"
   ]
  },
  {
   "cell_type": "code",
   "execution_count": 44,
   "id": "53c40cb9",
   "metadata": {},
   "outputs": [
    {
     "name": "stdout",
     "output_type": "stream",
     "text": [
      "{'_id': 1, 'title': 'abc123', 'isbn': '0001122223334'}\n",
      "{'_id': 2, 'title': 'Baked Goods', 'isbn': '9999999999999'}\n"
     ]
    }
   ],
   "source": [
    "for row in collection.aggregate( [ { \"$project\": { \"title\": 1,\"isbn\":1 } } ] ):\n",
    "    print(row)"
   ]
  },
  {
   "cell_type": "markdown",
   "id": "4d3dd974",
   "metadata": {},
   "source": [
    "# Delete"
   ]
  },
  {
   "cell_type": "code",
   "execution_count": 45,
   "id": "0cdaf714",
   "metadata": {},
   "outputs": [
    {
     "data": {
      "text/plain": [
       "<pymongo.results.DeleteResult at 0x1a50bc76b48>"
      ]
     },
     "execution_count": 45,
     "metadata": {},
     "output_type": "execute_result"
    }
   ],
   "source": [
    "mydb = client[\"OFFICE\"]\n",
    "mycol = mydb[\"employeeinformation\"]\n",
    "\n",
    "myquery = {'firstname':'Krish' }\n",
    "\n",
    "mycol.delete_one(myquery)"
   ]
  },
  {
   "cell_type": "markdown",
   "id": "a5e67e4d",
   "metadata": {},
   "source": [
    "# Drop"
   ]
  },
  {
   "cell_type": "code",
   "execution_count": 46,
   "id": "a4f887e8",
   "metadata": {},
   "outputs": [],
   "source": [
    "mydb = client[\"Employee\"]\n",
    "mycol = mydb[\"collection\"]\n",
    "\n",
    "mycol.drop()"
   ]
  },
  {
   "cell_type": "markdown",
   "id": "28ad18c0",
   "metadata": {},
   "source": [
    "# Limit the Result "
   ]
  },
  {
   "cell_type": "code",
   "execution_count": 47,
   "id": "0c1bd791",
   "metadata": {},
   "outputs": [
    {
     "name": "stdout",
     "output_type": "stream",
     "text": [
      "{'_id': ObjectId('60a1543096ecc5d093b0f5dd'), 'firstname': 'Krishna', 'lastname': 'More', 'department': 'Analytics', 'qualification': 'BE', 'age': 21}\n",
      "{'_id': ObjectId('60a1543396ecc5d093b0f5de'), 'firstname': 'John', 'lastname': 'Doe', 'department': 'Analytics', 'qualification': 'statistics', 'age': 35}\n",
      "{'_id': ObjectId('60a1543396ecc5d093b0f5df'), 'firstname': 'John ', 'lastname': 'Smith', 'department': 'Analytics', 'qualification': 'masters', 'age': 30}\n",
      "{'_id': ObjectId('60a1543396ecc5d093b0f5e0'), 'firstname': 'Manish', 'lastname': 'Sen', 'department': 'Analytics', 'qualification': 'phd', 'age': 34}\n",
      "{'_id': ObjectId('60a1543396ecc5d093b0f5e1'), 'firstname': 'Ram', 'lastname': 'Singh', 'department': 'Analytics', 'qualification': 'master', 'age': 32}\n"
     ]
    }
   ],
   "source": [
    "mydb = client[\"OFFICE\"]\n",
    "mycol = mydb[\"employeeinformation\"]\n",
    "\n",
    "myresult = mycol.find().limit(5)\n",
    "\n",
    "#print the result:\n",
    "for x in myresult:\n",
    "  print(x)"
   ]
  },
  {
   "cell_type": "code",
   "execution_count": null,
   "id": "1ffe0be9",
   "metadata": {},
   "outputs": [],
   "source": []
  }
 ],
 "metadata": {
  "kernelspec": {
   "display_name": "Python 3",
   "language": "python",
   "name": "python3"
  },
  "language_info": {
   "codemirror_mode": {
    "name": "ipython",
    "version": 3
   },
   "file_extension": ".py",
   "mimetype": "text/x-python",
   "name": "python",
   "nbconvert_exporter": "python",
   "pygments_lexer": "ipython3",
   "version": "3.7.10"
  }
 },
 "nbformat": 4,
 "nbformat_minor": 5
}
